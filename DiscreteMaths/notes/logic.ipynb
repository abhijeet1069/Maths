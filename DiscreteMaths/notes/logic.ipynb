{
 "cells": [
  {
   "cell_type": "markdown",
   "metadata": {},
   "source": [
    "# The Logic of Compound statements\n",
    "\n",
    "## Proposition\n",
    "\n",
    "A statement or proposition is a sentence that is true or false but not both.\n",
    "\n",
    "## Conditional statements\n",
    "\n",
    "If p then q , p -> q\n",
    "\n",
    "A conditional statement that is true by the fact that its hypothesis is false id often called vauously true or true by\n",
    "default.\n",
    "\n",
    "p -> q = ~p v q\n",
    "\n",
    "Contrapositive of p -> q = ~q -> ~p, which is equivalent\n",
    "Converse of p -> q = q->p\n",
    "Inverse of p -> q = ~p -> ~q\n",
    "\n",
    "The converse and inverse of a conditional statement are logically equivalent to each other.\n",
    "\n",
    "## Valid and Invalid arguments\n",
    "\n",
    "To say that an argument form is valid means that no matter what particular statements are substituted for the statement\n",
    "variables in its premises, if the resulting premises are all true, then the conclusion is also true. To say that an \n",
    "argument is valid means that its form is valid.\n",
    "\n",
    "## Testing an argument form of validity\n",
    "\n",
    " - Identify the premises and conclusion of the argument form\n",
    " - Contruct a truth table showing truth values of all premises and the conclusion\n",
    " - A row of the truth table in which all the premises are true is called a critical row.\n",
    "    If the conclusion in every critical row is true, then the argument is valid else invalid\n"
   ]
  }
 ],
 "metadata": {
  "language_info": {
   "name": "python"
  }
 },
 "nbformat": 4,
 "nbformat_minor": 2
}
