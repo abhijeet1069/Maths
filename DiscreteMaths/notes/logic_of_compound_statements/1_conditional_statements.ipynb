{
 "cells": [
  {
   "cell_type": "markdown",
   "metadata": {},
   "source": [
    "# The Logic of Compound statements\n",
    "\n",
    "## Proposition\n",
    "\n",
    "A statement or proposition is a sentence that is true or false but not both.\n",
    "\n",
    "## Conditional statements\n",
    "\n",
    "If p then q , p -> q\n",
    "\n",
    "A conditional statement that is true by the fact that its hypothesis is false id often called vauously true or true by\n",
    "default.\n",
    "\n",
    "p -> q = ~p v q\n",
    "\n",
    "## Converse, Inverse, Contrapositive\n",
    "\n",
    "- Contrapositive of p -> q = ~q -> ~p, which is equivalent\n",
    "- Converse of p -> q = q->p\n",
    "- Inverse of p -> q = ~p -> ~q\n",
    "\n",
    "The converse and inverse of a conditional statement are logically equivalent to each other."
   ]
  }
 ],
 "metadata": {
  "language_info": {
   "name": "python"
  }
 },
 "nbformat": 4,
 "nbformat_minor": 2
}
