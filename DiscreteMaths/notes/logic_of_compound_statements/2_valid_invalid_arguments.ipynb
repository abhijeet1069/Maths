{
 "cells": [
  {
   "cell_type": "markdown",
   "metadata": {},
   "source": [
    "# Valid and Invalid arguments (Rules of Inference)\n",
    "\n",
    "To say that an argument form is valid means that no matter what particular statements are substituted for the statement\n",
    "variables in its premises, if the resulting premises are all true, then the conclusion is also true. To say that an \n",
    "argument is valid means that its form is valid.\n",
    "\n",
    "## Testing an argument form of validity\n",
    "\n",
    " - Identify the premises and conclusion of the argument form\n",
    " - Contruct a truth table showing truth values of all premises and the conclusion\n",
    " - A row of the truth table in which all the premises are true is called a critical row.\n",
    "    ** If the conclusion in every critical row is true, then the argument is valid else invalid **\n",
    "\n",
    "## Syllogism\n",
    "\n",
    "An argument form consisting of two premises and a conclusion is called a syllogism.\n",
    "The first and second premises are called the major premise and minor premise.\n",
    "\n",
    "![Rules of Inference](rules_of_inference.png \"Rules of Inference\")\n",
    "\n",
    "## Fallacies\n",
    "\n",
    "A fallacy is an error in reasoning that results in an invalid argument. Some common fallacies are:\n",
    "\n",
    "- Ambiguous premises : Using ambiguous premises\n",
    "- Circular reasoning : Assuming what is to be proved without having derieved it from premises\n",
    "- Jumping to a conclusion : Jumping to a conclusion without adequate grounds.\n",
    "- Converse error : This fallacy is also known as affirming the consequent.<br/>\n",
    "    P → Q <br/>\n",
    "    Q <br/>\n",
    "    ∴ P  (Incorrect inference)\n",
    "\n",
    "- Inverse error : This fallacy is also known as denying the antecedent.<br/>\n",
    "    P → Q<br/>\n",
    "    ¬P<br/>\n",
    "    ∴ ¬Q  (Incorrect inference)\n"
   ]
  }
 ],
 "metadata": {
  "language_info": {
   "name": "python"
  }
 },
 "nbformat": 4,
 "nbformat_minor": 2
}
