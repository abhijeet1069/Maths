{
 "cells": [
  {
   "cell_type": "markdown",
   "metadata": {},
   "source": [
    "# Systems of Linear Equations\n",
    "\n",
    "A linear equation in variables $x_{1} ,..., x_{n}$ is an equation that can be written in,\n",
    "            \n",
    "$$ a_{1}x_{1} + a_{2}x_{2} + \\dots + a_{n}x_{n} = b $$\n",
    "\n",
    "In texbook examples n is between 2-5, in real world it might be 50 or 500 more.\n",
    "\n",
    "A system of linear equations(or linear system) is a collection of one or more linear equations involving the same \n",
    "variables. For ex:\n",
    "\n",
    "$$\n",
    "\\begin{align*}\n",
    "    2x_{1} - x_{2} + 1.5x_{3} &= 8 \\\\\n",
    "    x_{1} - 4x_{3} &= -7\n",
    "\\end{align*}\n",
    "$$\n",
    "\n",
    "## Solution of a linear equation\n",
    "\n",
    "A solution of a system is a list $ (s_{1},s_{2}, \\dots, s_{1} ) $ of numbers that make each equation a true statement.\n",
    "The set of all possible solutions is called a solution set of linear equation. Two linear system are called equivalent\n",
    "if they have same solution set.\n",
    "\n",
    "A system of linear equation has:\n",
    "-  No solution, or (Inconsistent)\n",
    "- Exactly 1 solution, or (Unique and Consistent)\n",
    "- Infinitely many solution (Consistent)\n",
    "\n",
    "## Elementary row operations\n",
    "\n",
    "- Replace one row by the sum of itself and multiple of another row.\n",
    "- Interchange rows.\n",
    "- Multiply all entries in a row by a non-zero constant\n",
    "\n",
    "## Insight\n",
    "\n",
    "Main algorithm is reducing the augmented matrix to upper triangular matrix.\n",
    "\n",
    "$$\n",
    "\\begin{bmatrix}\n",
    "    a_{11} & a_{12} & a_{13} & a_{14} \\\\\n",
    "    0 & a_{22} & a_{23} & a_{24} \\\\\n",
    "    0 & 0 & a_{33} & a_{34} \\\\\n",
    "    0 & 0 & 0 & a_{44}\n",
    "\\end{bmatrix}\n",
    "$$"
   ]
  },
  {
   "cell_type": "code",
   "execution_count": 1,
   "metadata": {},
   "outputs": [
    {
     "name": "stdout",
     "output_type": "stream",
     "text": [
      "{w: 20, x: 55/2, y: 30, z: 45/2}\n"
     ]
    }
   ],
   "source": [
    "from sympy import symbols, Eq, solve\n",
    "\n",
    "# Define symbols for the unknowns\n",
    "w,x,y,z = symbols('w x y z')\n",
    "\n",
    "# Define the equations\n",
    "equation1 = Eq(4*w + -1*x + 0*y + -1*z, 30) \n",
    "equation2 = Eq(1*w + -4*x + 1*y + 0*z, -60) \n",
    "equation3 = Eq(0*w + 1*x + -4*y + 1*z, -70) \n",
    "equation4 = Eq(1*w + 0*x + 1*y + -4*z, -40) \n",
    "\n",
    "# Solve the system\n",
    "solution = solve((equation1, equation2,equation3, equation4 ), (w,x,y,z))\n",
    "\n",
    "print(solution)"
   ]
  }
 ],
 "metadata": {
  "kernelspec": {
   "display_name": "500l",
   "language": "python",
   "name": "python3"
  },
  "language_info": {
   "codemirror_mode": {
    "name": "ipython",
    "version": 3
   },
   "file_extension": ".py",
   "mimetype": "text/x-python",
   "name": "python",
   "nbconvert_exporter": "python",
   "pygments_lexer": "ipython3",
   "version": "3.10.6"
  }
 },
 "nbformat": 4,
 "nbformat_minor": 2
}
